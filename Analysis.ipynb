version https://git-lfs.github.com/spec/v1
oid sha256:19489a4cf7239d7a4b61999f01601e5f24c29d5253d33dbaf941022327150d3e
size 1303002
